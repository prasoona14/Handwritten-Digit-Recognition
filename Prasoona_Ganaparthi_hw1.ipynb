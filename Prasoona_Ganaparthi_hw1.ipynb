{
 "cells": [
  {
   "cell_type": "markdown",
   "metadata": {},
   "source": [
    "# CS 584 :: Data Mining :: George Mason University :: Fall 2024\n",
    "\n",
    "\n",
    "# Homework 1: KNN&PCA\n",
    "\n",
    "- **100 points [6% of your final grade]**\n",
    "- **Due Sunday, Sep 23 by 11:59pm**\n",
    "\n",
    "- *Goals of this homework:* (1) implement the KNN algorithm for classifying handwritten digit images; (2) implement the PCA algorithm to reduce the feature dimension so that we can speed up the KNN algorithm and also improve the classification performance; (3) tune the hyperparameters of the KNN and PCA algorithms to produce classification result as good as possible.\n",
    "\n",
    "- *Submission instructions:* for this homework, you need to submit to two different platforms. First, you should submit your notebook file to **Blackboard** (look for the homework 1 assignment there). Please name your submission **FirstName_Lastname_hw1.ipynb**, so for example, my submission would be something like **Ziwei_Zhu_hw1.ipynb**. Your notebook should be fully executed so that we can see all outputs. Then, you need to output a txt file from this notebook (you will see later in this notebook) and submit it to the HW1 page in the http://miner2.vsnet.gmu.edu website."
   ]
  },
  {
   "cell_type": "markdown",
   "metadata": {},
   "source": [
    "## Part 1: KNN (40 points)\n",
    "\n",
    "In this part, you need to implement your own KNN algorithm for classifying the digits (from 0 to 9) from the handwritten digit images (28 pixel * 28 pixel). The provided train.txt is the training data you will use for building your model. Each line in the file is one sample, whose first value is the ground-truth label and the following 784 values are the pixels of the image. First of all, let's load the data by excuting the following code."
   ]
  },
  {
   "cell_type": "code",
   "execution_count": 107,
   "metadata": {},
   "outputs": [
    {
     "name": "stdout",
     "output_type": "stream",
     "text": [
      "[[0 0 0 ... 0 0 0]\n",
      " [0 0 0 ... 0 0 0]\n",
      " [0 0 0 ... 0 0 0]\n",
      " ...\n",
      " [0 0 0 ... 0 0 0]\n",
      " [0 0 0 ... 0 0 0]\n",
      " [0 0 0 ... 0 0 0]]\n",
      "array of labels: shape (60000,)\n",
      "array of feature matrix: shape (60000, 784)\n"
     ]
    }
   ],
   "source": [
    "import numpy as np\n",
    "\n",
    "data = np.loadtxt(\"train.txt\", delimiter=',').astype(int)\n",
    "labels = data[:, 0].astype(int)\n",
    "features = data[:, 1:]\n",
    "print(features)\n",
    "print('array of labels: shape ' + str(np.shape(labels)))\n",
    "print('array of feature matrix: shape ' + str(np.shape(features)))\n"
   ]
  },
  {
   "cell_type": "markdown",
   "metadata": {},
   "source": [
    "Now, we have the label variable to store the ground-truth labels (from 0 to 9) of all 60,000 samples, and matrix features to store the image pixels of these samples. Next, let's excute the following code to plot the first 4 samples to see how these images look like."
   ]
  },
  {
   "cell_type": "code",
   "execution_count": 108,
   "metadata": {},
   "outputs": [
    {
     "data": {
      "image/png": "[encoded data removed]",
      "text/plain": [
       "<Figure size 1000x5000 with 4 Axes>"
      ]
     },
     "metadata": {},
     "output_type": "display_data"
    }
   ],
   "source": [
    "import matplotlib.pyplot as plt \n",
    "fig, ax = plt.subplots(1, 4, figsize=(10, 50))\n",
    "for i in range(4):  \n",
    "    ax[i].imshow(features[i].reshape((28, 28)), cmap=plt.get_cmap('gray'))\n",
    "    ax[i].set_title('Label is %d' % labels[i])\n"
   ]
  },
  {
   "cell_type": "markdown",
   "metadata": {},
   "source": [
    "Next, you need to **randomly** select 20% samples (sampling without replacement) from the data as the **validation set**, and generate the new **training set** by removing the selected validation samples from the original dataset. Write your code in the next cell.\n",
    "\n",
    "**Note: You are NOT allowed to directly call APIs from an exiting Machine Learning library like sklearn. But you can use the 'random' library or the random module from 'numpy'**."
   ]
  },
  {
   "cell_type": "code",
   "execution_count": 109,
   "metadata": {},
   "outputs": [
    {
     "name": "stdout",
     "output_type": "stream",
     "text": [
      "60000\n",
      "length of training data : 48000\n",
      "length of validation data : 12000\n",
      "[[3 0 0 ... 0 0 0]\n",
      " [3 0 0 ... 0 0 0]\n",
      " [8 0 0 ... 0 0 0]\n",
      " ...\n",
      " [9 0 0 ... 0 0 0]\n",
      " [6 0 0 ... 0 0 0]\n",
      " [8 0 0 ... 0 0 0]]\n"
     ]
    }
   ],
   "source": [
    "# Write your code here\n",
    "np.random.shuffle(data)\n",
    "print(len(data))\n",
    "train,dev = np.split(data,[int(0.8*len(data))])\n",
    "print('length of training data : '+ str(len(train)))\n",
    "print('length of validation data : '+str(len(dev)))\n",
    "\n",
    "print(dev)"
   ]
  },
  {
   "cell_type": "code",
   "execution_count": 111,
   "metadata": {},
   "outputs": [
    {
     "name": "stdout",
     "output_type": "stream",
     "text": [
      "[[3 0 0 ... 0 0 0]\n",
      " [3 0 0 ... 0 0 0]\n",
      " [8 0 0 ... 0 0 0]\n",
      " [3 0 0 ... 0 0 0]\n",
      " [3 0 0 ... 0 0 0]\n",
      " [8 0 0 ... 0 0 0]]\n"
     ]
    }
   ],
   "source": [
    "print(dev[:6])"
   ]
  },
  {
   "cell_type": "markdown",
   "metadata": {},
   "source": [
    "Now, it's time to implement your KNN algorithm. In the next cell, please write your code to predict labels for samples in the validation set by the KNN model built on the training set. Here we set K = 10 and use the Euclidean distance to find neighbors.\n",
    "\n",
    "**Note: You should implement the algorithm by Python, Numpy, and other libraries you think are necessary. You are NOT allowed to directly call APIs from an exiting Machine Learning library like sklearn.**\n",
    "\n",
    "**Note: Here, you should only use the labels from the training set for the KNN model.**\n",
    "\n",
    "**Note: You can install and use the 'tqdm' library to help you track the process of your algorithm. Details are 'https://github.com/tqdm/tqdm'**\n",
    "\n",
    "**Note: It takes 30~60 min to excute the KNN algorithm.**"
   ]
  },
  {
   "cell_type": "code",
   "execution_count": 112,
   "metadata": {},
   "outputs": [
    {
     "name": "stdout",
     "output_type": "stream",
     "text": [
      "(48000, 784)\n",
      "(48000,)\n",
      "(12000, 784)\n",
      "(12000,)\n",
      "12000\n"
     ]
    },
    {
     "name": "stderr",
     "output_type": "stream",
     "text": [
      "Processing Validation Set: 100%|█████████████████████████████████████████| 12000/12000 [19:26<00:00, 10.29it/s]"
     ]
    },
    {
     "name": "stdout",
     "output_type": "stream",
     "text": [
      "[3, 3, 8, 3, 3]\n"
     ]
    },
    {
     "name": "stderr",
     "output_type": "stream",
     "text": [
      "\n"
     ]
    }
   ],
   "source": [
    "# Write your code here\n",
    "from tqdm import tqdm\n",
    "\n",
    "X_train = train[:, 1:] #only have features\n",
    "Y_train = train[:, 0]  #only have labels\n",
    "X_dev = dev[:, 1:] #only have features\n",
    "Y_dev = dev[:, 0]  #only have labels\n",
    "\n",
    "print(np.shape(X_train))\n",
    "print(np.shape(Y_train))\n",
    "print(np.shape(X_dev))\n",
    "print(np.shape(Y_dev))\n",
    "\n",
    "# This problem has 784 dimensions\n",
    "\n",
    "#Function to calculate Euclidean distance between all Xtrain and target\n",
    "#this is in vectorized format\n",
    "def dist(x1, x2):\n",
    "    return np.sqrt(np.sum((x1 - x2) ** 2, axis=1))\n",
    "\n",
    "#Function KNN\n",
    "def knn(x, y, target, k=10):\n",
    "    d = dist(x, target)\n",
    "    \n",
    "    #now sort the distances, we can retrieve the index of the values.\n",
    "    #https://numpy.org/doc/stable/reference/generated/numpy.argpartition.html\n",
    "    index_values = np.argpartition(d, k)[:k]\n",
    "    \n",
    "    #get the values/labels from those K indices\n",
    "    res = y[index_values]\n",
    "    \n",
    "    #count the occurance of each label of k values\n",
    "    res_labels, count = np.unique(res, return_counts=True)\n",
    "    \n",
    "    #get the maximun count label\n",
    "    pred = res_labels[np.argmax(count)]\n",
    "    \n",
    "    return pred\n",
    "\n",
    "print(X_dev.shape[0])\n",
    "Validation_pred =[]\n",
    "for i in tqdm(range(X_dev.shape[0]), desc=\"Processing Validation Set\"):\n",
    "    pred = knn(X_train, Y_train, X_dev[i])\n",
    "    Validation_pred.append(int(pred))\n",
    "\n",
    "print(Validation_pred[:5])\n",
    "\n",
    "# pred = knn(X_train, Y_train, X_dev[1])\n",
    "# print(pred)\n"
   ]
  },
  {
   "cell_type": "code",
   "execution_count": 114,
   "metadata": {},
   "outputs": [
    {
     "name": "stdout",
     "output_type": "stream",
     "text": [
      "[3, 3, 8, 3, 3, 8, 5, 1, 7, 2, 2, 0, 5, 4, 5, 7, 1, 1, 8, 8]\n",
      "(48000, 784)\n"
     ]
    }
   ],
   "source": [
    "print(Validation_pred[:20])\n",
    "print(np.shape(X_train))"
   ]
  },
  {
   "cell_type": "markdown",
   "metadata": {},
   "source": [
    "Then, please write code to compute the Accuracy, and Micro-averaged and Macro-averaged F1 scores to evaluate the performance on the validation set.\n",
    "\n",
    "Print out these three metrics."
   ]
  },
  {
   "cell_type": "code",
   "execution_count": 115,
   "metadata": {},
   "outputs": [
    {
     "name": "stdout",
     "output_type": "stream",
     "text": [
      "Accuracy: 0.968083\n",
      "Micro-averaged F1: 0.968083\n",
      "Macro-averaged F1: 0.968116\n"
     ]
    }
   ],
   "source": [
    "# Write your code here\n",
    "\n",
    "#function to define accuracy of the algorithm on validation set\n",
    "def calculate_accuracy(ground_truth, predictions):\n",
    "    \n",
    "    #count the number of correct predictions\n",
    "    right_preds = np.sum(ground_truth==predictions)\n",
    "    \n",
    "    #accuracy = number of correct predictions/total number of predictions\n",
    "    accuracy_score = right_preds/len(ground_truth)\n",
    "    return accuracy_score\n",
    "\n",
    "#function to calculate precision, recall and F1 scores\n",
    "def precision_recall_F1(tp,fp,fn):\n",
    "    p = tp/(tp+fp) if (tp + fp) > 0 else 0\n",
    "    r = tp/(tp+fn) if (tp + fn) > 0 else 0\n",
    "    f1_score = (2*p*r)/(p+r) if (p + r) > 0 else 0\n",
    "    \n",
    "    return p,r,f1_score\n",
    "\n",
    "def macro_micro_f1scores(ground_truth, predictions, num_classes):\n",
    "    \n",
    "    #lets convert the lists to numpy arrays(vectorized) - more optimized approach\n",
    "    ground_truth = np.array(ground_truth)\n",
    "    predictions = np.array(predictions)\n",
    "    \n",
    "    #Create an array to store the number of TPs, FPs and FNs\n",
    "    tp = np.zeros(num_classes)\n",
    "    fp = np.zeros(num_classes)\n",
    "    fn = np.zeros(num_classes)\n",
    "    \n",
    "    \n",
    "    for i in range(num_classes):\n",
    "        tp[i]=np.sum((ground_truth==i) & (predictions==i))\n",
    "        fp[i]=np.sum((ground_truth!=i) & (predictions==i))\n",
    "        fn[i]=np.sum((ground_truth==i) & (predictions!=i))\n",
    "    \n",
    "    #Micro-averaged F1 score (Compute performance from the complete confusion matrix) : \n",
    "    \n",
    "    #Calculate the total no.of TPs, FPs and FNs on all classes\n",
    "    tp_micro = np.sum(tp)\n",
    "    fp_micro = np.sum(fp)\n",
    "    fn_micro = np.sum(fn)\n",
    "    \n",
    "    #calculate precision,recall and f1 scores for micro averaged f1 score\n",
    "    precision_micro, recall_micro, f1_micro = precision_recall_F1(tp_micro, fp_micro, fn_micro)\n",
    "    \n",
    "    #Macro-averaged F1 score (Compute performance for each class, then average.):\n",
    "        \n",
    "    f1_macro = 0\n",
    "    for i in range(num_classes):\n",
    "        _,_,f1 = precision_recall_F1(tp[i], fp[i], fn[i])\n",
    "        f1_macro += f1\n",
    "        \n",
    "    f1_macro = f1_macro/num_classes\n",
    "        \n",
    "    return f1_micro, f1_macro\n",
    "        \n",
    "    \n",
    "num_classes=10 #since we have 10 digits 0-9\n",
    "ground_truth = Y_dev\n",
    "predictions = Validation_pred\n",
    "    \n",
    "#accuracy of the algorithm\n",
    "accuracy = calculate_accuracy(ground_truth, predictions)\n",
    "print(f\"Accuracy: {accuracy:.6f}\")\n",
    "\n",
    "# Micro and Macro F1 scores\n",
    "f1_micro, f1_macro = macro_micro_f1scores(ground_truth, predictions, num_classes)\n",
    "print(f\"Micro-averaged F1: {f1_micro:.6f}\")\n",
    "print(f\"Macro-averaged F1: {f1_macro:.6f}\")\n"
   ]
  },
  {
   "cell_type": "markdown",
   "metadata": {},
   "source": [
    "## Part 2: PCA (30 points)\n",
    "\n",
    "In this part, you will implement the PCA algorithm to reduce the input dimension for the handwritten digit recognition task. In the next cell, please write your code to compute the transformation matrix in the PCA method for the training set we got from the previous part. Here, we only keep the **top 50 dimensions**.\n",
    "\n",
    "**Hint: You can use the function from the Numpy library to compute SVD:**\n",
    "\n",
    "*u, s, v = np.linalg.svd(a, full_matrices=False)*\n",
    "\n",
    "\n",
    "**Note: You should only use the training set to compute PCA without using validation set.**"
   ]
  },
  {
   "cell_type": "code",
   "execution_count": 116,
   "metadata": {},
   "outputs": [
    {
     "name": "stdout",
     "output_type": "stream",
     "text": [
      "New Reduced data: Shape (48000, 50)\n",
      "Transformation matrix: Shape: (50, 784)\n"
     ]
    }
   ],
   "source": [
    "# Write your code here\n",
    "\n",
    "#function to define PCA algorithm to resuce the input dimensions\n",
    "def PCA(X_train, dimensions):\n",
    "    \n",
    "    #find the mean of each feature and then sutract mean to each feature from data points.\n",
    "    Mean_data = np.mean(X_train,axis=0)\n",
    "    X_Mean = X_train - Mean_data\n",
    "    \n",
    "    # SVD - to decompose a matrix into 3 matrices u,s,v\n",
    "    # U - Left singular matrix, S - has the singular values, V - Right singular matrix\n",
    "    u, s, v = np.linalg.svd(X_Mean, full_matrices=False)\n",
    "    \n",
    "    #select top 50 dimensions that are required for us, these are our principal components\n",
    "    Principal_Components = v[:dimensions,:]\n",
    "    \n",
    "    #Transpose the prinicpal_components matrix and multiply it with the X_mean matrix.\n",
    "    #This is to project the data onto lower dimensions defined by PCA    \n",
    "    X_lowered = np.dot(X_Mean, Principal_Components.T)\n",
    "    \n",
    "    return X_lowered, Principal_Components\n",
    "\n",
    "#we need to keep the top 50 dimensions.\n",
    "dimensions = 50\n",
    "new_X_train = X_train #only features\n",
    "X_lowered, transformed_matrix = PCA(new_X_train,dimensions)\n",
    "\n",
    "print(f\"New Reduced data: Shape {X_lowered.shape}\")\n",
    "print(f\"Transformation matrix: Shape: {transformed_matrix.shape}\")\n"
   ]
  },
  {
   "cell_type": "markdown",
   "metadata": {},
   "source": [
    "Now, you need to apply the computed transformation matrix to reduce the dimension for the training set and the validation set. Then, build a new KNN model on the dimension-reduced traning data and predict the labels for the dimension-reduced validation set. \n",
    "\n",
    "Print out the Accuracy, and Micro-averaged and Macro-averaged F1 scores.\n",
    "\n",
    "**Note: When you calculate the centered data for the validation set, you can calculate the mean feature values just by the validation data itself.**"
   ]
  },
  {
   "cell_type": "code",
   "execution_count": 118,
   "metadata": {},
   "outputs": [
    {
     "name": "stderr",
     "output_type": "stream",
     "text": [
      "Processing Validation Set with Reduced Dimensions: 100%|████████████████| 12000/12000 [00:45<00:00, 265.31it/s]"
     ]
    },
    {
     "name": "stdout",
     "output_type": "stream",
     "text": [
      "Accuracy after implementing PCA: 0.975250\n",
      "Micro-averaged F1 after implementing PCA: 0.975250\n",
      "Macro-averaged F1 after implementing PCA: 0.975190\n"
     ]
    },
    {
     "name": "stderr",
     "output_type": "stream",
     "text": [
      "\n"
     ]
    }
   ],
   "source": [
    "# Write your code here\n",
    "\n",
    "#function to apply PCA to validation set\n",
    "def PCA_for_validation(X_dev, tranformed_matrix, mean):\n",
    "    #center the data\n",
    "    X_Mean = X_dev-mean\n",
    "    \n",
    "    #apply PCA\n",
    "    X_lowered_val = np.dot(X_Mean, tranformed_matrix.T)\n",
    "    return X_lowered_val\n",
    "\n",
    "#Apply PCA to validation set using the tranformation matrix\n",
    "new_X_dev = X_dev\n",
    "mean = np.mean(new_X_train,axis=0)\n",
    "X_lowered_val = PCA_for_validation(new_X_dev, transformed_matrix, mean)\n",
    "\n",
    "# Use KNN to predict the labels on the reduced validation data\n",
    "Validation_pred_reduced = []\n",
    "for i in tqdm(range(X_lowered_val.shape[0]), desc=\"Processing Validation Set with Reduced Dimensions\"):\n",
    "    pred = knn(X_lowered, Y_train, X_lowered_val[i])\n",
    "    Validation_pred_reduced.append(int(pred))\n",
    "\n",
    "# Calculate accuracy, micro-averaged, and macro-averaged F1 scores\n",
    "ground_truth = Y_dev\n",
    "predictions = Validation_pred_reduced\n",
    "\n",
    "#accuracy of the algorithm\n",
    "accuracy = calculate_accuracy(ground_truth, predictions)\n",
    "print(f\"Accuracy after implementing PCA: {accuracy:.6f}\")\n",
    "\n",
    "# Micro and Macro F1 scores\n",
    "f1_micro, f1_macro = macro_micro_f1scores(ground_truth, predictions, num_classes=10)\n",
    "print(f\"Micro-averaged F1 after implementing PCA: {f1_micro:.6f}\")\n",
    "print(f\"Macro-averaged F1 after implementing PCA: {f1_macro:.6f}\")"
   ]
  },
  {
   "cell_type": "markdown",
   "metadata": {},
   "source": [
    "## Part 3: Tune Hyperparameter [Need to submit to Miner2] (30 points)\n",
    "\n",
    "In this part, you need to do your best to tune the hyperparameter in KNN and PCA to build the best model and submit the predictions for the testing data to Miner2 system. First of all, let's load the testing data by excuting the following code."
   ]
  },
  {
   "cell_type": "code",
   "execution_count": 119,
   "metadata": {},
   "outputs": [
    {
     "name": "stdout",
     "output_type": "stream",
     "text": [
      "array of testing feature matrix: shape (10000, 784)\n"
     ]
    }
   ],
   "source": [
    "test_features = np.loadtxt(\"test.txt\", delimiter=',').astype(int)\n",
    "print('array of testing feature matrix: shape ' + str(np.shape(test_features)))"
   ]
  },
  {
   "cell_type": "markdown",
   "metadata": {},
   "source": [
    "Now, you should tune three hyperparameters:\n",
    "\n",
    "- the number of nearest neighbors in KNN \n",
    "- the distance measurement (choose from Euclidean distance, L1 norm distance, and cosine distance)\n",
    "- the number of dimensions kept in PCA \n",
    "\n",
    "Rules:\n",
    "\n",
    "- Write your predictions for samples in the testing set into a file, in which each line has one integer indicating the prediction from your best model for the corresponding sample in the test.txt file. Please see the format.txt file in Miner2 as one submission example. Name the submission file hw1_Miner2.txt and submit it to Miner2 HW1 page.\n",
    "- The public leaderboard shows results for 50% of randomly chosen test instances only. This is a standard practice in data mining challenge to avoid gaming of the system. The private leaderboard will be released after the deadline evaluates all the entries in the test set.\n",
    "- You are allowed 5 submissions in a 24 hour cycle. \n",
    "- The final score and ranking will always be based on the last submission.\n",
    "- Grading will only be based on the model performance (based on Accuracy metric) instead of ranking. You'll get full credit as long as your socre is a reasonable number.\n",
    "\n",
    "\n",
    "**Hint: You can tune these hyperparameters by one randomly generated validation set (like what you have done in previous parts), or you can also use the cross-validation method.**\n",
    "\n",
    "**Hint: To save your time, you can subsample 50% (or even less) of the training data to tune hyper-parameters.**\n",
    "\n",
    "**Note: For each hyper-parameter, you must try at least 2 different values.**"
   ]
  },
  {
   "cell_type": "code",
   "execution_count": 120,
   "metadata": {},
   "outputs": [],
   "source": [
    "# Write your code here\n",
    "\n",
    "#funtion to define L1 norm distance\n",
    "\n",
    "def l1_dist(x1, x2):\n",
    "    return np.sum(np.abs(x1 - x2), axis=1)\n",
    "\n",
    "#function to define cosine distance\n",
    "def cosine_dist(x1, x2):\n",
    "    \n",
    "    #using vectorization\n",
    "    X_n = np.linalg.norm(x1, axis=1)\n",
    "    Y_n = np.linalg.norm(x2)\n",
    "\n",
    "    dots = np.dot(x1,x2)\n",
    "    similarity = dots/(X_n*Y_n)\n",
    "    dist = 1 - similarity\n",
    "    \n",
    "    return dist"
   ]
  },
  {
   "cell_type": "code",
   "execution_count": 121,
   "metadata": {},
   "outputs": [],
   "source": [
    "#define a knn function for 3 different distance metrics\n",
    "def knn(x, y, target, k=10, distance_metric='euclidean'):\n",
    "    # Select distance metric\n",
    "    if distance_metric == 'euclidean':\n",
    "        d = dist(x, target)  # Euclidean distance\n",
    "    elif distance_metric == 'l1':\n",
    "        d = l1_dist(x, target)  # L1 Norm distance\n",
    "    elif distance_metric == 'cosine':\n",
    "        d = cosine_dist(x, target) # Cosine distance\n",
    "    \n",
    "    #now sort the distances, we can retrieve the index of the values.\n",
    "    index_values = np.argpartition(d, k)[:k]\n",
    "    res = y[index_values]\n",
    "    \n",
    "    #count the occurance of each label of k values\n",
    "    res_labels, count = np.unique(res, return_counts=True)\n",
    "    pred = res_labels[np.argmax(count)]\n",
    "    \n",
    "    return pred"
   ]
  },
  {
   "cell_type": "code",
   "execution_count": 122,
   "metadata": {},
   "outputs": [],
   "source": [
    "def cross_validation(X_train, Y_train, k_values, distances, pca_dimensions, nfolds=5, subsample_size=0.5):\n",
    "    best_accuracy=0 # this is to store best accuracy\n",
    "    best_parameters = None # a variable to store best hyperparameters\n",
    "    \n",
    "    # Subsample the training data\n",
    "    if subsample_size < 1.0:\n",
    "        subsample_indices = np.random.choice(X_train.shape[0], size=int(X_train.shape[0] * subsample_size), replace=False)\n",
    "        X_train = X_train[subsample_indices]\n",
    "        Y_train = Y_train[subsample_indices]\n",
    "    \n",
    "    #Split the training data into n folds\n",
    "    size_fold = X_train.shape[0]//nfolds\n",
    "    indices = np.arange(X_train.shape[0])\n",
    "    \n",
    "    for dim in pca_dimensions:\n",
    "        \n",
    "        # Apply PCA to the entire training data\n",
    "        X_lowered_train, transformed_matrix = PCA(X_train, dim)\n",
    "        \n",
    "        #now perform cross-validation\n",
    "        accuracies =[] # to store accuracy of each fold along with hyperparameters\n",
    "        \n",
    "        for fold in range(nfolds):\n",
    "            \n",
    "            #Generate training and validation sets for each fold\n",
    "            dev_indices = indices[fold * size_fold:(fold + 1) * size_fold]\n",
    "            training_indices = np.concatenate([indices[:fold * size_fold], indices[(fold + 1) * size_fold:]])\n",
    "            \n",
    "            X_train_fold = X_lowered_train[training_indices]\n",
    "            Y_train_fold = Y_train[training_indices]\n",
    "            X_dev_fold = X_lowered_train[dev_indices]\n",
    "            Y_dev_fold = Y_train[dev_indices]\n",
    "            \n",
    "            #loop over all hyperparameters\n",
    "            for k in k_values:\n",
    "                for dist in distance_metrics:\n",
    "                    \n",
    "                    dev_predictions = []\n",
    "                    for i in range(X_dev_fold.shape[0]):\n",
    "                        \n",
    "                        #Use knn function to predict the values\n",
    "                        pred = knn(X_train_fold, Y_train_fold, X_dev_fold[i], k, dist)\n",
    "                        dev_predictions.append(int(pred))\n",
    "                        \n",
    "                    #Evaluate accuracy using the function calculate accuracy defined for knn\n",
    "                    accuracy = calculate_accuracy(Y_dev_fold, dev_predictions)\n",
    "                    accuracies.append((accuracy, k, dist, dim))\n",
    "                    \n",
    "                    # Print progress\n",
    "                    print(f\"Fold {fold+1} Accuracy: {accuracy:.4f}, K: {k}, Distance Metric: {dist}, PCA Dimensions: {dim}\")\n",
    "        \n",
    "        # calculate average accuracy accross all folds\n",
    "        average_accuracy = np.mean([x[0] for x in accuracies])\n",
    "        \n",
    "        #if current config has higher average accuracy than a previous, update that.\n",
    "        if average_accuracy > best_accuracy:\n",
    "            best_accuracy = average_accuracy\n",
    "            best_params = max(accuracies, key=lambda x: x[0])[1:]\n",
    "    \n",
    "    return best_params, best_accuracy\n",
    "   "
   ]
  },
  {
   "cell_type": "code",
   "execution_count": 123,
   "metadata": {
    "scrolled": true
   },
   "outputs": [
    {
     "name": "stdout",
     "output_type": "stream",
     "text": [
      "Fold 1 Accuracy: 0.9683, K: 5, Distance Metric: euclidean, PCA Dimensions: 50\n",
      "Fold 1 Accuracy: 0.9652, K: 5, Distance Metric: l1, PCA Dimensions: 50\n",
      "Fold 1 Accuracy: 0.9667, K: 5, Distance Metric: cosine, PCA Dimensions: 50\n",
      "Fold 1 Accuracy: 0.9660, K: 7, Distance Metric: euclidean, PCA Dimensions: 50\n",
      "Fold 1 Accuracy: 0.9644, K: 7, Distance Metric: l1, PCA Dimensions: 50\n",
      "Fold 1 Accuracy: 0.9635, K: 7, Distance Metric: cosine, PCA Dimensions: 50\n",
      "Fold 1 Accuracy: 0.9658, K: 10, Distance Metric: euclidean, PCA Dimensions: 50\n",
      "Fold 1 Accuracy: 0.9613, K: 10, Distance Metric: l1, PCA Dimensions: 50\n",
      "Fold 1 Accuracy: 0.9629, K: 10, Distance Metric: cosine, PCA Dimensions: 50\n",
      "Fold 2 Accuracy: 0.9696, K: 5, Distance Metric: euclidean, PCA Dimensions: 50\n",
      "Fold 2 Accuracy: 0.9640, K: 5, Distance Metric: l1, PCA Dimensions: 50\n",
      "Fold 2 Accuracy: 0.9656, K: 5, Distance Metric: cosine, PCA Dimensions: 50\n",
      "Fold 2 Accuracy: 0.9646, K: 7, Distance Metric: euclidean, PCA Dimensions: 50\n",
      "Fold 2 Accuracy: 0.9621, K: 7, Distance Metric: l1, PCA Dimensions: 50\n",
      "Fold 2 Accuracy: 0.9646, K: 7, Distance Metric: cosine, PCA Dimensions: 50\n",
      "Fold 2 Accuracy: 0.9640, K: 10, Distance Metric: euclidean, PCA Dimensions: 50\n",
      "Fold 2 Accuracy: 0.9587, K: 10, Distance Metric: l1, PCA Dimensions: 50\n",
      "Fold 2 Accuracy: 0.9615, K: 10, Distance Metric: cosine, PCA Dimensions: 50\n",
      "Fold 3 Accuracy: 0.9650, K: 5, Distance Metric: euclidean, PCA Dimensions: 50\n",
      "Fold 3 Accuracy: 0.9625, K: 5, Distance Metric: l1, PCA Dimensions: 50\n",
      "Fold 3 Accuracy: 0.9627, K: 5, Distance Metric: cosine, PCA Dimensions: 50\n",
      "Fold 3 Accuracy: 0.9627, K: 7, Distance Metric: euclidean, PCA Dimensions: 50\n",
      "Fold 3 Accuracy: 0.9596, K: 7, Distance Metric: l1, PCA Dimensions: 50\n",
      "Fold 3 Accuracy: 0.9600, K: 7, Distance Metric: cosine, PCA Dimensions: 50\n",
      "Fold 3 Accuracy: 0.9596, K: 10, Distance Metric: euclidean, PCA Dimensions: 50\n",
      "Fold 3 Accuracy: 0.9579, K: 10, Distance Metric: l1, PCA Dimensions: 50\n",
      "Fold 3 Accuracy: 0.9571, K: 10, Distance Metric: cosine, PCA Dimensions: 50\n",
      "Fold 4 Accuracy: 0.9675, K: 5, Distance Metric: euclidean, PCA Dimensions: 50\n",
      "Fold 4 Accuracy: 0.9631, K: 5, Distance Metric: l1, PCA Dimensions: 50\n",
      "Fold 4 Accuracy: 0.9658, K: 5, Distance Metric: cosine, PCA Dimensions: 50\n",
      "Fold 4 Accuracy: 0.9648, K: 7, Distance Metric: euclidean, PCA Dimensions: 50\n",
      "Fold 4 Accuracy: 0.9606, K: 7, Distance Metric: l1, PCA Dimensions: 50\n",
      "Fold 4 Accuracy: 0.9633, K: 7, Distance Metric: cosine, PCA Dimensions: 50\n",
      "Fold 4 Accuracy: 0.9625, K: 10, Distance Metric: euclidean, PCA Dimensions: 50\n",
      "Fold 4 Accuracy: 0.9592, K: 10, Distance Metric: l1, PCA Dimensions: 50\n",
      "Fold 4 Accuracy: 0.9598, K: 10, Distance Metric: cosine, PCA Dimensions: 50\n",
      "Fold 5 Accuracy: 0.9656, K: 5, Distance Metric: euclidean, PCA Dimensions: 50\n",
      "Fold 5 Accuracy: 0.9625, K: 5, Distance Metric: l1, PCA Dimensions: 50\n",
      "Fold 5 Accuracy: 0.9646, K: 5, Distance Metric: cosine, PCA Dimensions: 50\n",
      "Fold 5 Accuracy: 0.9637, K: 7, Distance Metric: euclidean, PCA Dimensions: 50\n",
      "Fold 5 Accuracy: 0.9604, K: 7, Distance Metric: l1, PCA Dimensions: 50\n",
      "Fold 5 Accuracy: 0.9629, K: 7, Distance Metric: cosine, PCA Dimensions: 50\n",
      "Fold 5 Accuracy: 0.9627, K: 10, Distance Metric: euclidean, PCA Dimensions: 50\n",
      "Fold 5 Accuracy: 0.9583, K: 10, Distance Metric: l1, PCA Dimensions: 50\n",
      "Fold 5 Accuracy: 0.9619, K: 10, Distance Metric: cosine, PCA Dimensions: 50\n",
      "Fold 1 Accuracy: 0.9663, K: 5, Distance Metric: euclidean, PCA Dimensions: 100\n",
      "Fold 1 Accuracy: 0.9579, K: 5, Distance Metric: l1, PCA Dimensions: 100\n",
      "Fold 1 Accuracy: 0.9637, K: 5, Distance Metric: cosine, PCA Dimensions: 100\n",
      "Fold 1 Accuracy: 0.9656, K: 7, Distance Metric: euclidean, PCA Dimensions: 100\n",
      "Fold 1 Accuracy: 0.9535, K: 7, Distance Metric: l1, PCA Dimensions: 100\n",
      "Fold 1 Accuracy: 0.9619, K: 7, Distance Metric: cosine, PCA Dimensions: 100\n",
      "Fold 1 Accuracy: 0.9604, K: 10, Distance Metric: euclidean, PCA Dimensions: 100\n",
      "Fold 1 Accuracy: 0.9496, K: 10, Distance Metric: l1, PCA Dimensions: 100\n",
      "Fold 1 Accuracy: 0.9590, K: 10, Distance Metric: cosine, PCA Dimensions: 100\n",
      "Fold 2 Accuracy: 0.9663, K: 5, Distance Metric: euclidean, PCA Dimensions: 100\n",
      "Fold 2 Accuracy: 0.9573, K: 5, Distance Metric: l1, PCA Dimensions: 100\n",
      "Fold 2 Accuracy: 0.9646, K: 5, Distance Metric: cosine, PCA Dimensions: 100\n",
      "Fold 2 Accuracy: 0.9644, K: 7, Distance Metric: euclidean, PCA Dimensions: 100\n",
      "Fold 2 Accuracy: 0.9546, K: 7, Distance Metric: l1, PCA Dimensions: 100\n",
      "Fold 2 Accuracy: 0.9629, K: 7, Distance Metric: cosine, PCA Dimensions: 100\n",
      "Fold 2 Accuracy: 0.9590, K: 10, Distance Metric: euclidean, PCA Dimensions: 100\n",
      "Fold 2 Accuracy: 0.9504, K: 10, Distance Metric: l1, PCA Dimensions: 100\n",
      "Fold 2 Accuracy: 0.9610, K: 10, Distance Metric: cosine, PCA Dimensions: 100\n",
      "Fold 3 Accuracy: 0.9604, K: 5, Distance Metric: euclidean, PCA Dimensions: 100\n",
      "Fold 3 Accuracy: 0.9515, K: 5, Distance Metric: l1, PCA Dimensions: 100\n",
      "Fold 3 Accuracy: 0.9598, K: 5, Distance Metric: cosine, PCA Dimensions: 100\n",
      "Fold 3 Accuracy: 0.9590, K: 7, Distance Metric: euclidean, PCA Dimensions: 100\n",
      "Fold 3 Accuracy: 0.9481, K: 7, Distance Metric: l1, PCA Dimensions: 100\n",
      "Fold 3 Accuracy: 0.9590, K: 7, Distance Metric: cosine, PCA Dimensions: 100\n",
      "Fold 3 Accuracy: 0.9565, K: 10, Distance Metric: euclidean, PCA Dimensions: 100\n",
      "Fold 3 Accuracy: 0.9481, K: 10, Distance Metric: l1, PCA Dimensions: 100\n",
      "Fold 3 Accuracy: 0.9567, K: 10, Distance Metric: cosine, PCA Dimensions: 100\n",
      "Fold 4 Accuracy: 0.9642, K: 5, Distance Metric: euclidean, PCA Dimensions: 100\n",
      "Fold 4 Accuracy: 0.9548, K: 5, Distance Metric: l1, PCA Dimensions: 100\n",
      "Fold 4 Accuracy: 0.9631, K: 5, Distance Metric: cosine, PCA Dimensions: 100\n",
      "Fold 4 Accuracy: 0.9623, K: 7, Distance Metric: euclidean, PCA Dimensions: 100\n",
      "Fold 4 Accuracy: 0.9540, K: 7, Distance Metric: l1, PCA Dimensions: 100\n",
      "Fold 4 Accuracy: 0.9621, K: 7, Distance Metric: cosine, PCA Dimensions: 100\n",
      "Fold 4 Accuracy: 0.9583, K: 10, Distance Metric: euclidean, PCA Dimensions: 100\n",
      "Fold 4 Accuracy: 0.9519, K: 10, Distance Metric: l1, PCA Dimensions: 100\n",
      "Fold 4 Accuracy: 0.9608, K: 10, Distance Metric: cosine, PCA Dimensions: 100\n",
      "Fold 5 Accuracy: 0.9625, K: 5, Distance Metric: euclidean, PCA Dimensions: 100\n",
      "Fold 5 Accuracy: 0.9556, K: 5, Distance Metric: l1, PCA Dimensions: 100\n",
      "Fold 5 Accuracy: 0.9610, K: 5, Distance Metric: cosine, PCA Dimensions: 100\n",
      "Fold 5 Accuracy: 0.9600, K: 7, Distance Metric: euclidean, PCA Dimensions: 100\n",
      "Fold 5 Accuracy: 0.9537, K: 7, Distance Metric: l1, PCA Dimensions: 100\n",
      "Fold 5 Accuracy: 0.9600, K: 7, Distance Metric: cosine, PCA Dimensions: 100\n",
      "Fold 5 Accuracy: 0.9592, K: 10, Distance Metric: euclidean, PCA Dimensions: 100\n",
      "Fold 5 Accuracy: 0.9485, K: 10, Distance Metric: l1, PCA Dimensions: 100\n",
      "Fold 5 Accuracy: 0.9569, K: 10, Distance Metric: cosine, PCA Dimensions: 100\n",
      "Best Parameters: K=5, Distance Metric=euclidean, PCA Dimensions=50\n"
     ]
    }
   ],
   "source": [
    "#Define the values we want for each hyperparameter\n",
    "\n",
    "k_values = [5,7,10]  # Different K values\n",
    "distance_metrics = ['euclidean','l1','cosine']  # different distance metrics to try\n",
    "pca_dims = [50,100]  # Number of PCA dimensions to have\n",
    "\n",
    "best_parameters, best_accuracy = cross_validation(X_train, Y_train, k_values, distance_metrics, pca_dims)\n",
    "print(f\"Best Parameters: K={best_parameters[0]}, Distance Metric={best_parameters[1]}, PCA Dimensions={best_parameters[2]}\")\n"
   ]
  },
  {
   "cell_type": "code",
   "execution_count": 128,
   "metadata": {
    "scrolled": false
   },
   "outputs": [
    {
     "name": "stdout",
     "output_type": "stream",
     "text": [
      "(48000, 784)\n",
      "(50, 784)\n",
      "(10000, 784)\n"
     ]
    },
    {
     "name": "stderr",
     "output_type": "stream",
     "text": [
      "Processing Validation Set: 100%|████████████████████████████████████████| 10000/10000 [00:37<00:00, 267.88it/s]"
     ]
    },
    {
     "name": "stdout",
     "output_type": "stream",
     "text": [
      "[7, 2, 1, 0, 4, 1, 4, 9, 5, 9, 0, 6, 9, 0, 1, 5, 9, 7, 3, 4]\n"
     ]
    },
    {
     "name": "stderr",
     "output_type": "stream",
     "text": [
      "\n"
     ]
    }
   ],
   "source": [
    "#The final best hyperparameter setting is: k=5, Distance metric=Euclidean, PCA=50\n",
    "\n",
    "best_k = best_parameters[0]\n",
    "best_dist_metric = best_parameters[1]\n",
    "best_pca_dim = best_parameters[2]\n",
    "#Apply PCA on the best metrics on training data\n",
    "X_lowered_train, transformed_matrix = PCA(X_train, best_pca_dim)\n",
    "\n",
    "print(np.shape(X_train))\n",
    "print(np.shape(transformed_matrix))\n",
    "print(np.shape(test_features))\n",
    "\n",
    "# Apply PCA to the test data\n",
    "X_lowered_test = PCA_for_validation(test_features, transformed_matrix, np.mean(X_train, axis=0))\n",
    "\n",
    "#use KNN to predict labels for test set\n",
    "test_pred = []\n",
    "for i in tqdm(range(X_lowered_test.shape[0]), desc=\"Processing Validation Set\"):\n",
    "    pred = knn(X_lowered_train, Y_train, X_lowered_test[i], k=best_k, distance_metric=best_dist_metric)\n",
    "    test_pred.append(int(pred))\n",
    "\n"
   ]
  },
  {
   "cell_type": "code",
   "execution_count": 144,
   "metadata": {},
   "outputs": [
    {
     "name": "stdout",
     "output_type": "stream",
     "text": [
      "[7, 2, 1, 0, 4, 1, 4, 9, 5, 9, 0, 6, 9, 0, 1, 5, 9, 7, 3, 4]\n",
      "10000\n"
     ]
    }
   ],
   "source": [
    "print(test_pred[:20])\n",
    "print(len(test_pred))"
   ]
  },
  {
   "cell_type": "code",
   "execution_count": 148,
   "metadata": {},
   "outputs": [
    {
     "data": {
      "image/png": "[encoded data removed]",
      "text/plain": [
       "<Figure size 1000x5000 with 10 Axes>"
      ]
     },
     "metadata": {},
     "output_type": "display_data"
    }
   ],
   "source": [
    "import matplotlib.pyplot as plt \n",
    "fig, ax = plt.subplots(1, 10, figsize=(10, 50))\n",
    "for i in range(10):  \n",
    "    ax[i].imshow(test_features[i].reshape((28, 28)), cmap=plt.get_cmap('gray'))\n",
    "    ax[i].set_title('Label is %d' % labels[i])"
   ]
  },
  {
   "cell_type": "code",
   "execution_count": 137,
   "metadata": {},
   "outputs": [],
   "source": [
    "with open('hw1_Miner2.txt', 'w') as f:\n",
    "    for pred in test_pred:\n",
    "        f.write(f\"{pred}\\n\")"
   ]
  },
  {
   "cell_type": "markdown",
   "metadata": {},
   "source": [
    "### Question: What is your final hyperparameter setting? How do you tune them? What choices have you tried?"
   ]
  },
  {
   "cell_type": "markdown",
   "metadata": {},
   "source": [
    "#### Write your answer here\n",
    "The final hyperparameter setting is \n",
    "K = 5\n",
    "Distance Metric = Euclidean\n",
    "PCA dimensions = 50\n",
    "\n",
    "This setting gave me the best accuracy. I tuned the hyperparameter setting by using cross validation method. Iterated over different values of k, distance metrics and PCA dimensions on a knn model.\n",
    "For each combination, i performed 5 fold cross validation. I have calculated the average accuracy of each fold.\n",
    "I chose the best parameter with highest average accuracy accross all folds\n",
    "\n",
    "I have tried below choices for hyper parameters\n",
    "For K, i tried with k=5,7,10. Lower k values perfomed better in this case.\n",
    "For distance metrics, i tried using Euclidean, Manhattan and cosine distances. Euclidean performed better than the others in all cases\n",
    "For PCA dimensions, i tries with 50 and 100 dimensions. 50 was more effective here. Did not over compress the data aswell. \n",
    "\n",
    "By comparing all the above combinations, when k=5, distance metric=Euclidean and PCA dimensions= 50 acheived best accuracy while using cross validation."
   ]
  },
  {
   "cell_type": "markdown",
   "metadata": {},
   "source": [
    "### Question: your username in Miner2 and the score and ranking of your submission in Miner2 (at the time of answering this question)"
   ]
  },
  {
   "cell_type": "markdown",
   "metadata": {},
   "source": [
    "#### Write your answer here\n",
    "UserName : pganapar@gmu.edu\n",
    "Score : 0.98\n",
    "Rank : 2\n"
   ]
  },
  {
   "cell_type": "code",
   "execution_count": null,
   "metadata": {},
   "outputs": [],
   "source": []
  }
 ],
 "metadata": {
  "anaconda-cloud": {},
  "kernelspec": {
   "display_name": "Python 3 (ipykernel)",
   "language": "python",
   "name": "python3"
  },
  "language_info": {
   "codemirror_mode": {
    "name": "ipython",
    "version": 3
   },
   "file_extension": ".py",
   "mimetype": "text/x-python",
   "name": "python",
   "nbconvert_exporter": "python",
   "pygments_lexer": "ipython3",
   "version": "3.11.7"
  }
 },
 "nbformat": 4,
 "nbformat_minor": 4
}
